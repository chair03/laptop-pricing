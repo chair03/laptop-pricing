{
 "cells": [
  {
   "cell_type": "code",
   "execution_count": 1,
   "metadata": {},
   "outputs": [],
   "source": [
    "import csv\n",
    "from bs4 import BeautifulSoup\n",
    "from selenium import webdriver\n",
    "import pdb\n",
    "PATH = \"C:\\Program Files (x86)\\chromedriver.exe\""
   ]
  },
  {
   "cell_type": "code",
   "execution_count": 2,
   "metadata": {},
   "outputs": [],
   "source": [
    "def extract(item):\n",
    "    atag = item.h2.a\n",
    "    url = 'https://amazon.co.uk' + atag.get('href')\n",
    "    \n",
    "    driver.get(url)\n",
    "    pagesoup = BeautifulSoup(driver.page_source,'html.parser')\n",
    "    try:\n",
    "        price = pagesoup.find('span',attrs= {'id':'price_inside_buybox'}).text.strip()\n",
    "        table = pagesoup.find(\"table\",attrs = {'class':'a-normal a-spacing-micro'})\n",
    "        table = table.find_all(\"td\")\n",
    "    except AttributeError:\n",
    "        return\n",
    "    \n",
    "    try:\n",
    "        rating = pagesoup.find('span',attrs={'class':'a-icon-alt'}).text\n",
    "        reviews = pagesoup.find('span',attrs={'class':\"a-size-base\",'id':'acrCustomerReviewText'}).text\n",
    "    except AttributeError:\n",
    "        rating  = 'NaN'\n",
    "        reviews = 0\n",
    "    \n",
    "    \n",
    "    properties = {'Price':price,'Reviews':reviews,'Rating':rating}\n",
    "    for i in range(len(table)):\n",
    "        if(i%2 == 1):\n",
    "            prev  = attr\n",
    "            attr  = table[i].text.strip()\n",
    "            properties[prev] = attr\n",
    "        else:\n",
    "            attr  = table[i].text.strip()\n",
    "    return properties\n",
    "        \n",
    "    "
   ]
  },
  {
   "cell_type": "code",
   "execution_count": 31,
   "metadata": {},
   "outputs": [],
   "source": [
    "records = []\n",
    "for i in range(1,21):\n",
    "    driver = webdriver.Chrome(PATH)\n",
    "    URL = 'https://www.amazon.co.uk/s?k=laptops&page='+str(i)+'&qid=1615761982&ref=sr_pg_'+str(i)\n",
    "    driver.get(URL)\n",
    "    soup = BeautifulSoup(driver.page_source,'html.parser')\n",
    "    results = soup.find_all('div',{'data-component-type':'s-search-result'})\n",
    "    for item in results:\n",
    "        record  = extract(item)\n",
    "        if record:\n",
    "            records.append(record)"
   ]
  },
  {
   "cell_type": "code",
   "execution_count": 40,
   "metadata": {},
   "outputs": [],
   "source": [
    "attrs = []\n",
    "for record in records:\n",
    "    keys = record.keys()\n",
    "    for key in keys:\n",
    "        if key not in attrs:\n",
    "            attrs.append(key)"
   ]
  },
  {
   "cell_type": "code",
   "execution_count": 41,
   "metadata": {},
   "outputs": [
    {
     "data": {
      "text/plain": [
       "['Price',\n",
       " 'Reviews',\n",
       " 'Rating',\n",
       " 'Brand',\n",
       " 'Operating System',\n",
       " 'CPU manufacturer',\n",
       " 'Screen size',\n",
       " 'Computer memory size',\n",
       " 'Processor count',\n",
       " 'Graphics Chipset Brand',\n",
       " 'Series',\n",
       " 'CPU model',\n",
       " 'Colour',\n",
       " 'Hard disk size',\n",
       " 'Resolution',\n",
       " 'Item weight',\n",
       " 'Form Factor',\n",
       " 'Hard disk description',\n",
       " 'Operating system',\n",
       " 'Graphics processor manufacturer',\n",
       " 'Model name',\n",
       " 'RAM memory technology',\n",
       " 'Hard disk interface',\n",
       " 'CPU speed',\n",
       " 'Form factor',\n",
       " 'Wireless communication technology',\n",
       " 'Human interface input',\n",
       " 'Connectivity Type',\n",
       " 'Graphics co-processor',\n",
       " 'Battery cell composition',\n",
       " 'Item dimensions L x W x H',\n",
       " 'Cellular technology',\n",
       " 'Other camera features',\n",
       " 'Software included',\n",
       " 'Wireless communication standard']"
      ]
     },
     "execution_count": 41,
     "metadata": {},
     "output_type": "execute_result"
    }
   ],
   "source": [
    "attrs"
   ]
  },
  {
   "cell_type": "code",
   "execution_count": 50,
   "metadata": {},
   "outputs": [],
   "source": [
    "with open('results.csv','w',newline = '',encoding = 'utf-8') as f:\n",
    "    writer = csv.writer(f)\n",
    "    writer.writerow(attrs)\n",
    "    for record in records:\n",
    "        row = []\n",
    "        for attr in attrs:\n",
    "            try:\n",
    "                val = record[attr]\n",
    "            except KeyError:\n",
    "                val = 'NaN'\n",
    "            row.append(val)\n",
    "        writer.writerow(row)"
   ]
  },
  {
   "cell_type": "code",
   "execution_count": null,
   "metadata": {},
   "outputs": [],
   "source": []
  }
 ],
 "metadata": {
  "kernelspec": {
   "display_name": "Python 3",
   "language": "python",
   "name": "python3"
  },
  "language_info": {
   "codemirror_mode": {
    "name": "ipython",
    "version": 3
   },
   "file_extension": ".py",
   "mimetype": "text/x-python",
   "name": "python",
   "nbconvert_exporter": "python",
   "pygments_lexer": "ipython3",
   "version": "3.8.3"
  }
 },
 "nbformat": 4,
 "nbformat_minor": 4
}
