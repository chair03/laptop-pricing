{
 "cells": [
  {
   "cell_type": "code",
   "execution_count": 1,
   "metadata": {},
   "outputs": [],
   "source": [
    "import pandas as pd\n",
    "import numpy as np\n",
    "from sklearn.preprocessing import LabelEncoder\n",
    "from pandas.api.types import is_numeric_dtype\n",
    "from pandas.api.types import is_string_dtype\n",
    "from sklearn.impute import SimpleImputer\n",
    "from sklearn.ensemble import RandomForestRegressor\n",
    "from sklearn.model_selection import KFold\n",
    "from sklearn.model_selection import cross_val_score\n",
    "from sklearn.model_selection import GridSearchCV"
   ]
  },
  {
   "cell_type": "code",
   "execution_count": 2,
   "metadata": {},
   "outputs": [
    {
     "data": {
      "text/html": [
       "<div>\n",
       "<style scoped>\n",
       "    .dataframe tbody tr th:only-of-type {\n",
       "        vertical-align: middle;\n",
       "    }\n",
       "\n",
       "    .dataframe tbody tr th {\n",
       "        vertical-align: top;\n",
       "    }\n",
       "\n",
       "    .dataframe thead th {\n",
       "        text-align: right;\n",
       "    }\n",
       "</style>\n",
       "<table border=\"1\" class=\"dataframe\">\n",
       "  <thead>\n",
       "    <tr style=\"text-align: right;\">\n",
       "      <th></th>\n",
       "      <th>Price</th>\n",
       "      <th>Reviews</th>\n",
       "      <th>Rating</th>\n",
       "      <th>Brand</th>\n",
       "      <th>Operating System</th>\n",
       "      <th>CPU manufacturer</th>\n",
       "      <th>Screen size</th>\n",
       "      <th>Computer memory size</th>\n",
       "      <th>Processor count</th>\n",
       "      <th>Graphics Chipset Brand</th>\n",
       "      <th>...</th>\n",
       "      <th>Wireless communication technology</th>\n",
       "      <th>Human interface input</th>\n",
       "      <th>Connectivity Type</th>\n",
       "      <th>Graphics co-processor</th>\n",
       "      <th>Battery cell composition</th>\n",
       "      <th>Item dimensions L x W x H</th>\n",
       "      <th>Cellular technology</th>\n",
       "      <th>Other camera features</th>\n",
       "      <th>Software included</th>\n",
       "      <th>Wireless communication standard</th>\n",
       "    </tr>\n",
       "  </thead>\n",
       "  <tbody>\n",
       "    <tr>\n",
       "      <th>0</th>\n",
       "      <td>£667.69</td>\n",
       "      <td>218 ratings</td>\n",
       "      <td>4.6 out of 5 stars</td>\n",
       "      <td>HUAWEI</td>\n",
       "      <td>Windows 10 Home</td>\n",
       "      <td>Intel</td>\n",
       "      <td>13 Inches</td>\n",
       "      <td>8 GB</td>\n",
       "      <td>8.0</td>\n",
       "      <td>NVIDIA</td>\n",
       "      <td>...</td>\n",
       "      <td>NaN</td>\n",
       "      <td>NaN</td>\n",
       "      <td>NaN</td>\n",
       "      <td>NaN</td>\n",
       "      <td>NaN</td>\n",
       "      <td>NaN</td>\n",
       "      <td>NaN</td>\n",
       "      <td>NaN</td>\n",
       "      <td>NaN</td>\n",
       "      <td>NaN</td>\n",
       "    </tr>\n",
       "    <tr>\n",
       "      <th>1</th>\n",
       "      <td>£399.99</td>\n",
       "      <td>98 ratings</td>\n",
       "      <td>3.8 out of 5 stars</td>\n",
       "      <td>TECLAST</td>\n",
       "      <td>Windows 10</td>\n",
       "      <td>Intel Celeron Processor N4100</td>\n",
       "      <td>11.6 Inches</td>\n",
       "      <td>8 GB</td>\n",
       "      <td>4.0</td>\n",
       "      <td>Intel</td>\n",
       "      <td>...</td>\n",
       "      <td>NaN</td>\n",
       "      <td>NaN</td>\n",
       "      <td>NaN</td>\n",
       "      <td>NaN</td>\n",
       "      <td>NaN</td>\n",
       "      <td>NaN</td>\n",
       "      <td>NaN</td>\n",
       "      <td>NaN</td>\n",
       "      <td>NaN</td>\n",
       "      <td>NaN</td>\n",
       "    </tr>\n",
       "    <tr>\n",
       "      <th>2</th>\n",
       "      <td>£228.99</td>\n",
       "      <td>2,586 ratings</td>\n",
       "      <td>4.0 out of 5 stars</td>\n",
       "      <td>ASUS</td>\n",
       "      <td>Windows 10 Home</td>\n",
       "      <td>Intel</td>\n",
       "      <td>14</td>\n",
       "      <td>4 GB</td>\n",
       "      <td>2.0</td>\n",
       "      <td>Intel</td>\n",
       "      <td>...</td>\n",
       "      <td>NaN</td>\n",
       "      <td>NaN</td>\n",
       "      <td>NaN</td>\n",
       "      <td>NaN</td>\n",
       "      <td>NaN</td>\n",
       "      <td>NaN</td>\n",
       "      <td>NaN</td>\n",
       "      <td>NaN</td>\n",
       "      <td>NaN</td>\n",
       "      <td>NaN</td>\n",
       "    </tr>\n",
       "    <tr>\n",
       "      <th>3</th>\n",
       "      <td>£499.00</td>\n",
       "      <td>40 ratings</td>\n",
       "      <td>4.5 out of 5 stars</td>\n",
       "      <td>Dell</td>\n",
       "      <td>Windows 10</td>\n",
       "      <td>AMD</td>\n",
       "      <td>15.6 Inches</td>\n",
       "      <td>8 GB</td>\n",
       "      <td>1.0</td>\n",
       "      <td>AMD</td>\n",
       "      <td>...</td>\n",
       "      <td>NaN</td>\n",
       "      <td>NaN</td>\n",
       "      <td>NaN</td>\n",
       "      <td>NaN</td>\n",
       "      <td>NaN</td>\n",
       "      <td>NaN</td>\n",
       "      <td>NaN</td>\n",
       "      <td>NaN</td>\n",
       "      <td>NaN</td>\n",
       "      <td>NaN</td>\n",
       "    </tr>\n",
       "    <tr>\n",
       "      <th>4</th>\n",
       "      <td>£229.49</td>\n",
       "      <td>715 ratings</td>\n",
       "      <td>4.2 out of 5 stars</td>\n",
       "      <td>Jumper</td>\n",
       "      <td>Windows 10</td>\n",
       "      <td>Intel</td>\n",
       "      <td>13.3 Inches</td>\n",
       "      <td>4 GB</td>\n",
       "      <td>2.0</td>\n",
       "      <td>Intel</td>\n",
       "      <td>...</td>\n",
       "      <td>NaN</td>\n",
       "      <td>NaN</td>\n",
       "      <td>NaN</td>\n",
       "      <td>NaN</td>\n",
       "      <td>NaN</td>\n",
       "      <td>NaN</td>\n",
       "      <td>NaN</td>\n",
       "      <td>NaN</td>\n",
       "      <td>NaN</td>\n",
       "      <td>NaN</td>\n",
       "    </tr>\n",
       "  </tbody>\n",
       "</table>\n",
       "<p>5 rows × 35 columns</p>\n",
       "</div>"
      ],
      "text/plain": [
       "     Price        Reviews              Rating    Brand Operating System  \\\n",
       "0  £667.69    218 ratings  4.6 out of 5 stars   HUAWEI  Windows 10 Home   \n",
       "1  £399.99     98 ratings  3.8 out of 5 stars  TECLAST       Windows 10   \n",
       "2  £228.99  2,586 ratings  4.0 out of 5 stars     ASUS  Windows 10 Home   \n",
       "3  £499.00     40 ratings  4.5 out of 5 stars     Dell       Windows 10   \n",
       "4  £229.49    715 ratings  4.2 out of 5 stars   Jumper       Windows 10   \n",
       "\n",
       "                CPU manufacturer  Screen size Computer memory size  \\\n",
       "0                          Intel    13 Inches                 8 GB   \n",
       "1  Intel Celeron Processor N4100  11.6 Inches                 8 GB   \n",
       "2                          Intel           14                 4 GB   \n",
       "3                            AMD  15.6 Inches                 8 GB   \n",
       "4                          Intel  13.3 Inches                 4 GB   \n",
       "\n",
       "   Processor count Graphics Chipset Brand  ...  \\\n",
       "0              8.0                 NVIDIA  ...   \n",
       "1              4.0                  Intel  ...   \n",
       "2              2.0                  Intel  ...   \n",
       "3              1.0                    AMD  ...   \n",
       "4              2.0                  Intel  ...   \n",
       "\n",
       "  Wireless communication technology Human interface input Connectivity Type  \\\n",
       "0                               NaN                   NaN               NaN   \n",
       "1                               NaN                   NaN               NaN   \n",
       "2                               NaN                   NaN               NaN   \n",
       "3                               NaN                   NaN               NaN   \n",
       "4                               NaN                   NaN               NaN   \n",
       "\n",
       "  Graphics co-processor Battery cell composition Item dimensions L x W x H  \\\n",
       "0                   NaN                      NaN                       NaN   \n",
       "1                   NaN                      NaN                       NaN   \n",
       "2                   NaN                      NaN                       NaN   \n",
       "3                   NaN                      NaN                       NaN   \n",
       "4                   NaN                      NaN                       NaN   \n",
       "\n",
       "  Cellular technology Other camera features Software included  \\\n",
       "0                 NaN                   NaN               NaN   \n",
       "1                 NaN                   NaN               NaN   \n",
       "2                 NaN                   NaN               NaN   \n",
       "3                 NaN                   NaN               NaN   \n",
       "4                 NaN                   NaN               NaN   \n",
       "\n",
       "  Wireless communication standard  \n",
       "0                             NaN  \n",
       "1                             NaN  \n",
       "2                             NaN  \n",
       "3                             NaN  \n",
       "4                             NaN  \n",
       "\n",
       "[5 rows x 35 columns]"
      ]
     },
     "execution_count": 2,
     "metadata": {},
     "output_type": "execute_result"
    }
   ],
   "source": [
    "df = pd.read_csv('results.csv')\n",
    "df.head()"
   ]
  },
  {
   "cell_type": "markdown",
   "metadata": {},
   "source": [
    "## Cleaning the data"
   ]
  },
  {
   "cell_type": "markdown",
   "metadata": {},
   "source": [
    "First thing to notice is the columns with the large amount of NaNs"
   ]
  },
  {
   "cell_type": "code",
   "execution_count": 3,
   "metadata": {},
   "outputs": [
    {
     "data": {
      "text/plain": [
       "Price                                 0.000000\n",
       "Reviews                               0.000000\n",
       "Rating                                9.302326\n",
       "Brand                                 0.000000\n",
       "Operating System                      5.813953\n",
       "CPU manufacturer                      3.488372\n",
       "Screen size                           1.744186\n",
       "Computer memory size                  0.581395\n",
       "Processor count                       2.325581\n",
       "Graphics Chipset Brand               19.476744\n",
       "Series                               50.290698\n",
       "CPU model                             4.069767\n",
       "Colour                               77.906977\n",
       "Hard disk size                       24.709302\n",
       "Resolution                           49.418605\n",
       "Item weight                          93.604651\n",
       "Form Factor                          97.383721\n",
       "Hard disk description                93.604651\n",
       "Operating system                     95.058140\n",
       "Graphics processor manufacturer      97.093023\n",
       "Model name                           96.802326\n",
       "RAM memory technology                98.255814\n",
       "Hard disk interface                  99.418605\n",
       "CPU speed                            97.383721\n",
       "Form factor                          99.709302\n",
       "Wireless communication technology    98.546512\n",
       "Human interface input                99.418605\n",
       "Connectivity Type                    96.511628\n",
       "Graphics co-processor                99.418605\n",
       "Battery cell composition             99.418605\n",
       "Item dimensions L x W x H            99.709302\n",
       "Cellular technology                  99.709302\n",
       "Other camera features                99.709302\n",
       "Software included                    99.709302\n",
       "Wireless communication standard      99.709302\n",
       "dtype: float64"
      ]
     },
     "execution_count": 3,
     "metadata": {},
     "output_type": "execute_result"
    }
   ],
   "source": [
    "(df.isnull().sum()/df.shape[0])*100 "
   ]
  },
  {
   "cell_type": "code",
   "execution_count": 4,
   "metadata": {},
   "outputs": [],
   "source": [
    "colsToDrop = df.columns[(df.isnull().sum()/df.shape[0])*100 > 40]\n",
    "df = df.drop(colsToDrop,axis = 1)"
   ]
  },
  {
   "cell_type": "code",
   "execution_count": 5,
   "metadata": {},
   "outputs": [],
   "source": [
    "df = df.replace(',','', regex=True)\n",
    "df = df.replace('£','',regex = True)\n",
    "\n",
    "df = df.replace('ratings','',regex = True)\n",
    "df = df.replace('rating','',regex = True)\n",
    "df = df.replace('out of 5 stars','',regex = True)"
   ]
  },
  {
   "cell_type": "code",
   "execution_count": 6,
   "metadata": {},
   "outputs": [
    {
     "data": {
      "text/plain": [
       "array(['Windows 10 Home', 'Windows 10', 'Windows', 'Windows 10 S',\n",
       "       'Android 10', 'Windows 10 Pro', 'Chrome OS', nan, 'Android',\n",
       "       'Mac OS X', 'Windows 7', 'Google Chrome'], dtype=object)"
      ]
     },
     "execution_count": 6,
     "metadata": {},
     "output_type": "execute_result"
    }
   ],
   "source": [
    "df['Operating System'].unique()"
   ]
  },
  {
   "cell_type": "markdown",
   "metadata": {},
   "source": [
    "Obviously Google Chrome is not an operating system so we will change that to NaN. Secondly Android 10 is the most version of Android so it would make sense that when one defaults to Android it is the same as Android 10 so we will merge them. Windows 10 Home is the same as Windows 10. We will merge Windows 10 Home, Windows 10 and Windows 7 into Windows. "
   ]
  },
  {
   "cell_type": "code",
   "execution_count": 7,
   "metadata": {},
   "outputs": [
    {
     "data": {
      "text/html": [
       "<div>\n",
       "<style scoped>\n",
       "    .dataframe tbody tr th:only-of-type {\n",
       "        vertical-align: middle;\n",
       "    }\n",
       "\n",
       "    .dataframe tbody tr th {\n",
       "        vertical-align: top;\n",
       "    }\n",
       "\n",
       "    .dataframe thead th {\n",
       "        text-align: right;\n",
       "    }\n",
       "</style>\n",
       "<table border=\"1\" class=\"dataframe\">\n",
       "  <thead>\n",
       "    <tr style=\"text-align: right;\">\n",
       "      <th></th>\n",
       "      <th>Price</th>\n",
       "      <th>Reviews</th>\n",
       "      <th>Rating</th>\n",
       "      <th>Brand</th>\n",
       "      <th>Operating System</th>\n",
       "      <th>CPU manufacturer</th>\n",
       "      <th>Screen size</th>\n",
       "      <th>Computer memory size</th>\n",
       "      <th>Processor count</th>\n",
       "      <th>Graphics Chipset Brand</th>\n",
       "      <th>CPU model</th>\n",
       "      <th>Hard disk size</th>\n",
       "    </tr>\n",
       "  </thead>\n",
       "  <tbody>\n",
       "    <tr>\n",
       "      <th>296</th>\n",
       "      <td>299.99</td>\n",
       "      <td>61</td>\n",
       "      <td>4.2</td>\n",
       "      <td>X230</td>\n",
       "      <td>Windows 7</td>\n",
       "      <td>Intel</td>\n",
       "      <td>12.5 Inches</td>\n",
       "      <td>4 GB</td>\n",
       "      <td>1.0</td>\n",
       "      <td>NaN</td>\n",
       "      <td>Core i5</td>\n",
       "      <td>320 GB</td>\n",
       "    </tr>\n",
       "  </tbody>\n",
       "</table>\n",
       "</div>"
      ],
      "text/plain": [
       "      Price Reviews Rating Brand Operating System CPU manufacturer  \\\n",
       "296  299.99     61    4.2   X230        Windows 7            Intel   \n",
       "\n",
       "     Screen size Computer memory size  Processor count Graphics Chipset Brand  \\\n",
       "296  12.5 Inches                 4 GB              1.0                    NaN   \n",
       "\n",
       "    CPU model Hard disk size  \n",
       "296   Core i5         320 GB  "
      ]
     },
     "execution_count": 7,
     "metadata": {},
     "output_type": "execute_result"
    }
   ],
   "source": [
    "df[df['Operating System'] == 'Windows 7']"
   ]
  },
  {
   "cell_type": "code",
   "execution_count": 8,
   "metadata": {},
   "outputs": [],
   "source": [
    "df['Operating System'] = df['Operating System'].replace(['Windows 7','Windows 10','Windows 10 Home'],'Windows')\n",
    "df['Operating System'] = df['Operating System'].replace('Android 10','Android')"
   ]
  },
  {
   "cell_type": "code",
   "execution_count": 9,
   "metadata": {},
   "outputs": [
    {
     "data": {
      "text/plain": [
       "array(['Intel', 'Intel Celeron Processor N4100', 'AMD', 'MediaTek',\n",
       "       'Apple', nan, 'Intel Core i5-7300U', 'A33', 'VIA'], dtype=object)"
      ]
     },
     "execution_count": 9,
     "metadata": {},
     "output_type": "execute_result"
    }
   ],
   "source": [
    "df['CPU manufacturer'].unique()"
   ]
  },
  {
   "cell_type": "code",
   "execution_count": 10,
   "metadata": {},
   "outputs": [],
   "source": [
    "df['CPU manufacturer'] = df['CPU manufacturer'].replace([ 'Intel Celeron Processor N4100','Intel Core i5-7300U'],'Intel')"
   ]
  },
  {
   "cell_type": "code",
   "execution_count": 11,
   "metadata": {},
   "outputs": [
    {
     "data": {
      "text/plain": [
       "array(['13 Inches', '11.6 Inches', '14', '15.6 Inches', '13.3 Inches',\n",
       "       '14 Inches', '12.45 Inches', '10.1 Inches', '14.1 Inches',\n",
       "       '17.3 Inches', '15.6', '15 Inches', nan, '10.1 Feet',\n",
       "       '13.9 Inches', '12.5 Inches', '13.3', '35.6 Centimetres',\n",
       "       '27 Inches', '17 Inches', '15.6 Centimetres', '15.4 Inches',\n",
       "       '10 Inches', '6 Inches', '21.5 Inches', '11 Inches', '13.5 Inches',\n",
       "       '13.4 Inches', '12 Inches', '16 Inches', '34.39 Centimetres'],\n",
       "      dtype=object)"
      ]
     },
     "execution_count": 11,
     "metadata": {},
     "output_type": "execute_result"
    }
   ],
   "source": [
    "df['Screen size'].unique()"
   ]
  },
  {
   "cell_type": "code",
   "execution_count": 12,
   "metadata": {},
   "outputs": [
    {
     "data": {
      "text/html": [
       "<div>\n",
       "<style scoped>\n",
       "    .dataframe tbody tr th:only-of-type {\n",
       "        vertical-align: middle;\n",
       "    }\n",
       "\n",
       "    .dataframe tbody tr th {\n",
       "        vertical-align: top;\n",
       "    }\n",
       "\n",
       "    .dataframe thead th {\n",
       "        text-align: right;\n",
       "    }\n",
       "</style>\n",
       "<table border=\"1\" class=\"dataframe\">\n",
       "  <thead>\n",
       "    <tr style=\"text-align: right;\">\n",
       "      <th></th>\n",
       "      <th>Price</th>\n",
       "      <th>Reviews</th>\n",
       "      <th>Rating</th>\n",
       "      <th>Brand</th>\n",
       "      <th>Operating System</th>\n",
       "      <th>CPU manufacturer</th>\n",
       "      <th>Screen size</th>\n",
       "      <th>Computer memory size</th>\n",
       "      <th>Processor count</th>\n",
       "      <th>Graphics Chipset Brand</th>\n",
       "      <th>CPU model</th>\n",
       "      <th>Hard disk size</th>\n",
       "    </tr>\n",
       "  </thead>\n",
       "  <tbody>\n",
       "    <tr>\n",
       "      <th>121</th>\n",
       "      <td>349.00</td>\n",
       "      <td>893</td>\n",
       "      <td>3.6</td>\n",
       "      <td>HP</td>\n",
       "      <td>Windows</td>\n",
       "      <td>Intel</td>\n",
       "      <td>35.6 Centimetres</td>\n",
       "      <td>4 GB</td>\n",
       "      <td>2.0</td>\n",
       "      <td>Intel</td>\n",
       "      <td>Celeron</td>\n",
       "      <td>32 GB</td>\n",
       "    </tr>\n",
       "    <tr>\n",
       "      <th>151</th>\n",
       "      <td>1198.99</td>\n",
       "      <td>267</td>\n",
       "      <td>4.5</td>\n",
       "      <td>Razer</td>\n",
       "      <td>Windows</td>\n",
       "      <td>Intel</td>\n",
       "      <td>15.6 Centimetres</td>\n",
       "      <td>256 GB</td>\n",
       "      <td>6.0</td>\n",
       "      <td>Intel</td>\n",
       "      <td>Core i7</td>\n",
       "      <td>16 GB</td>\n",
       "    </tr>\n",
       "    <tr>\n",
       "      <th>324</th>\n",
       "      <td>1446.82</td>\n",
       "      <td>96</td>\n",
       "      <td>4.4</td>\n",
       "      <td>Microsoft</td>\n",
       "      <td>Windows</td>\n",
       "      <td>Intel</td>\n",
       "      <td>34.39 Centimetres</td>\n",
       "      <td>8 GB</td>\n",
       "      <td>4.0</td>\n",
       "      <td>Intel</td>\n",
       "      <td>Core i7</td>\n",
       "      <td>NaN</td>\n",
       "    </tr>\n",
       "  </tbody>\n",
       "</table>\n",
       "</div>"
      ],
      "text/plain": [
       "       Price Reviews Rating      Brand Operating System CPU manufacturer  \\\n",
       "121   349.00    893    3.6          HP          Windows            Intel   \n",
       "151  1198.99    267    4.5       Razer          Windows            Intel   \n",
       "324  1446.82     96    4.4   Microsoft          Windows            Intel   \n",
       "\n",
       "           Screen size Computer memory size  Processor count  \\\n",
       "121   35.6 Centimetres                 4 GB              2.0   \n",
       "151   15.6 Centimetres               256 GB              6.0   \n",
       "324  34.39 Centimetres                 8 GB              4.0   \n",
       "\n",
       "    Graphics Chipset Brand CPU model Hard disk size  \n",
       "121                  Intel   Celeron          32 GB  \n",
       "151                  Intel   Core i7          16 GB  \n",
       "324                  Intel   Core i7            NaN  "
      ]
     },
     "execution_count": 12,
     "metadata": {},
     "output_type": "execute_result"
    }
   ],
   "source": [
    "df['Screen size'] = df['Screen size'].str.replace('Inches','')\n",
    "df[df['Screen size'].str.contains('Centimetres',na = False)]"
   ]
  },
  {
   "cell_type": "markdown",
   "metadata": {},
   "source": [
    "There are only three rows so just replace them manually"
   ]
  },
  {
   "cell_type": "code",
   "execution_count": 13,
   "metadata": {},
   "outputs": [
    {
     "data": {
      "text/html": [
       "<div>\n",
       "<style scoped>\n",
       "    .dataframe tbody tr th:only-of-type {\n",
       "        vertical-align: middle;\n",
       "    }\n",
       "\n",
       "    .dataframe tbody tr th {\n",
       "        vertical-align: top;\n",
       "    }\n",
       "\n",
       "    .dataframe thead th {\n",
       "        text-align: right;\n",
       "    }\n",
       "</style>\n",
       "<table border=\"1\" class=\"dataframe\">\n",
       "  <thead>\n",
       "    <tr style=\"text-align: right;\">\n",
       "      <th></th>\n",
       "      <th>Price</th>\n",
       "      <th>Reviews</th>\n",
       "      <th>Rating</th>\n",
       "      <th>Brand</th>\n",
       "      <th>Operating System</th>\n",
       "      <th>CPU manufacturer</th>\n",
       "      <th>Screen size</th>\n",
       "      <th>Computer memory size</th>\n",
       "      <th>Processor count</th>\n",
       "      <th>Graphics Chipset Brand</th>\n",
       "      <th>CPU model</th>\n",
       "      <th>Hard disk size</th>\n",
       "    </tr>\n",
       "  </thead>\n",
       "  <tbody>\n",
       "    <tr>\n",
       "      <th>0</th>\n",
       "      <td>667.69</td>\n",
       "      <td>218</td>\n",
       "      <td>4.6</td>\n",
       "      <td>HUAWEI</td>\n",
       "      <td>Windows</td>\n",
       "      <td>Intel</td>\n",
       "      <td>13</td>\n",
       "      <td>8 GB</td>\n",
       "      <td>8.0</td>\n",
       "      <td>NVIDIA</td>\n",
       "      <td>Core i5-10210U</td>\n",
       "      <td>NaN</td>\n",
       "    </tr>\n",
       "    <tr>\n",
       "      <th>1</th>\n",
       "      <td>399.99</td>\n",
       "      <td>98</td>\n",
       "      <td>3.8</td>\n",
       "      <td>TECLAST</td>\n",
       "      <td>Windows</td>\n",
       "      <td>Intel</td>\n",
       "      <td>11.6</td>\n",
       "      <td>8 GB</td>\n",
       "      <td>4.0</td>\n",
       "      <td>Intel</td>\n",
       "      <td>Celeron N</td>\n",
       "      <td>256 GB</td>\n",
       "    </tr>\n",
       "    <tr>\n",
       "      <th>2</th>\n",
       "      <td>228.99</td>\n",
       "      <td>2586</td>\n",
       "      <td>4.0</td>\n",
       "      <td>ASUS</td>\n",
       "      <td>Windows</td>\n",
       "      <td>Intel</td>\n",
       "      <td>14</td>\n",
       "      <td>4 GB</td>\n",
       "      <td>2.0</td>\n",
       "      <td>Intel</td>\n",
       "      <td>Celeron</td>\n",
       "      <td>64 GB</td>\n",
       "    </tr>\n",
       "    <tr>\n",
       "      <th>3</th>\n",
       "      <td>499.00</td>\n",
       "      <td>40</td>\n",
       "      <td>4.5</td>\n",
       "      <td>Dell</td>\n",
       "      <td>Windows</td>\n",
       "      <td>AMD</td>\n",
       "      <td>15.6</td>\n",
       "      <td>8 GB</td>\n",
       "      <td>1.0</td>\n",
       "      <td>AMD</td>\n",
       "      <td>Ryzen 5 3500U</td>\n",
       "      <td>256 GB</td>\n",
       "    </tr>\n",
       "    <tr>\n",
       "      <th>4</th>\n",
       "      <td>229.49</td>\n",
       "      <td>715</td>\n",
       "      <td>4.2</td>\n",
       "      <td>Jumper</td>\n",
       "      <td>Windows</td>\n",
       "      <td>Intel</td>\n",
       "      <td>13.3</td>\n",
       "      <td>4 GB</td>\n",
       "      <td>2.0</td>\n",
       "      <td>Intel</td>\n",
       "      <td>Celeron N3350</td>\n",
       "      <td>64 GB</td>\n",
       "    </tr>\n",
       "    <tr>\n",
       "      <th>...</th>\n",
       "      <td>...</td>\n",
       "      <td>...</td>\n",
       "      <td>...</td>\n",
       "      <td>...</td>\n",
       "      <td>...</td>\n",
       "      <td>...</td>\n",
       "      <td>...</td>\n",
       "      <td>...</td>\n",
       "      <td>...</td>\n",
       "      <td>...</td>\n",
       "      <td>...</td>\n",
       "      <td>...</td>\n",
       "    </tr>\n",
       "    <tr>\n",
       "      <th>339</th>\n",
       "      <td>849.98</td>\n",
       "      <td>0</td>\n",
       "      <td>NaN</td>\n",
       "      <td>Lenovo</td>\n",
       "      <td>Windows</td>\n",
       "      <td>AMD</td>\n",
       "      <td>13.3</td>\n",
       "      <td>8 GB</td>\n",
       "      <td>8.0</td>\n",
       "      <td>AMD</td>\n",
       "      <td>Ryzen 7 4700U</td>\n",
       "      <td>256 GB</td>\n",
       "    </tr>\n",
       "    <tr>\n",
       "      <th>340</th>\n",
       "      <td>239.00</td>\n",
       "      <td>285</td>\n",
       "      <td>4.1</td>\n",
       "      <td>LincPlus</td>\n",
       "      <td>Windows</td>\n",
       "      <td>Intel</td>\n",
       "      <td>14</td>\n",
       "      <td>4 GB</td>\n",
       "      <td>2.0</td>\n",
       "      <td>Intel</td>\n",
       "      <td>Celeron N3350</td>\n",
       "      <td>64 GB</td>\n",
       "    </tr>\n",
       "    <tr>\n",
       "      <th>341</th>\n",
       "      <td>229.99</td>\n",
       "      <td>715</td>\n",
       "      <td>4.2</td>\n",
       "      <td>Jumper</td>\n",
       "      <td>Windows</td>\n",
       "      <td>Intel</td>\n",
       "      <td>13.3</td>\n",
       "      <td>4 GB</td>\n",
       "      <td>2.0</td>\n",
       "      <td>Intel</td>\n",
       "      <td>Celeron N3350</td>\n",
       "      <td>64 GB</td>\n",
       "    </tr>\n",
       "    <tr>\n",
       "      <th>342</th>\n",
       "      <td>399.99</td>\n",
       "      <td>98</td>\n",
       "      <td>3.8</td>\n",
       "      <td>TECLAST</td>\n",
       "      <td>Windows</td>\n",
       "      <td>Intel</td>\n",
       "      <td>11.6</td>\n",
       "      <td>8 GB</td>\n",
       "      <td>4.0</td>\n",
       "      <td>Intel</td>\n",
       "      <td>Celeron N</td>\n",
       "      <td>256 GB</td>\n",
       "    </tr>\n",
       "    <tr>\n",
       "      <th>343</th>\n",
       "      <td>419.99</td>\n",
       "      <td>11</td>\n",
       "      <td>4.1</td>\n",
       "      <td>TECLAST</td>\n",
       "      <td>Windows</td>\n",
       "      <td>Intel</td>\n",
       "      <td>14.1</td>\n",
       "      <td>8 GB</td>\n",
       "      <td>4.0</td>\n",
       "      <td>Intel</td>\n",
       "      <td>Celeron</td>\n",
       "      <td>256 GB</td>\n",
       "    </tr>\n",
       "  </tbody>\n",
       "</table>\n",
       "<p>344 rows × 12 columns</p>\n",
       "</div>"
      ],
      "text/plain": [
       "      Price Reviews Rating     Brand Operating System CPU manufacturer  \\\n",
       "0    667.69    218    4.6     HUAWEI          Windows            Intel   \n",
       "1    399.99     98    3.8    TECLAST          Windows            Intel   \n",
       "2    228.99   2586    4.0       ASUS          Windows            Intel   \n",
       "3    499.00     40    4.5       Dell          Windows              AMD   \n",
       "4    229.49    715    4.2     Jumper          Windows            Intel   \n",
       "..      ...     ...    ...       ...              ...              ...   \n",
       "339  849.98       0    NaN    Lenovo          Windows              AMD   \n",
       "340  239.00    285    4.1   LincPlus          Windows            Intel   \n",
       "341  229.99    715    4.2     Jumper          Windows            Intel   \n",
       "342  399.99     98    3.8    TECLAST          Windows            Intel   \n",
       "343  419.99     11    4.1    TECLAST          Windows            Intel   \n",
       "\n",
       "    Screen size Computer memory size  Processor count Graphics Chipset Brand  \\\n",
       "0           13                  8 GB              8.0                 NVIDIA   \n",
       "1         11.6                  8 GB              4.0                  Intel   \n",
       "2            14                 4 GB              2.0                  Intel   \n",
       "3         15.6                  8 GB              1.0                    AMD   \n",
       "4         13.3                  4 GB              2.0                  Intel   \n",
       "..          ...                  ...              ...                    ...   \n",
       "339       13.3                  8 GB              8.0                    AMD   \n",
       "340         14                  4 GB              2.0                  Intel   \n",
       "341       13.3                  4 GB              2.0                  Intel   \n",
       "342       11.6                  8 GB              4.0                  Intel   \n",
       "343       14.1                  8 GB              4.0                  Intel   \n",
       "\n",
       "          CPU model Hard disk size  \n",
       "0    Core i5-10210U            NaN  \n",
       "1         Celeron N         256 GB  \n",
       "2           Celeron          64 GB  \n",
       "3     Ryzen 5 3500U         256 GB  \n",
       "4     Celeron N3350          64 GB  \n",
       "..              ...            ...  \n",
       "339   Ryzen 7 4700U         256 GB  \n",
       "340   Celeron N3350          64 GB  \n",
       "341   Celeron N3350          64 GB  \n",
       "342       Celeron N         256 GB  \n",
       "343         Celeron         256 GB  \n",
       "\n",
       "[344 rows x 12 columns]"
      ]
     },
     "execution_count": 13,
     "metadata": {},
     "output_type": "execute_result"
    }
   ],
   "source": [
    "df"
   ]
  },
  {
   "cell_type": "code",
   "execution_count": 14,
   "metadata": {},
   "outputs": [],
   "source": [
    "df['Screen size'] = df['Screen size'].str.replace('35.6 Centimetres','14')\n",
    "df['Screen size'] = df['Screen size'].str.replace('34.39 Centimetres','13.5')\n",
    "# 15.6 Centimeters is too small for a laptop, checked this value on Amazon it is 15.6 inches \n",
    "df['Screen size'] = df['Screen size'].str.replace('15.6 Centimetres','15.6')\n",
    "# Same as above\n",
    "df['Screen size'] = df['Screen size'].str.replace('Feet','')"
   ]
  },
  {
   "cell_type": "code",
   "execution_count": 15,
   "metadata": {},
   "outputs": [
    {
     "data": {
      "text/plain": [
       "array(['8 GB', '4 GB', '6 GB', '2 GB', '16 GB', '512 GB', '1 TB', '12 GB',\n",
       "       nan, '256 GB', '1 GB', '32 GB', '16'], dtype=object)"
      ]
     },
     "execution_count": 15,
     "metadata": {},
     "output_type": "execute_result"
    }
   ],
   "source": [
    "df['Computer memory size'].unique()"
   ]
  },
  {
   "cell_type": "code",
   "execution_count": 16,
   "metadata": {},
   "outputs": [
    {
     "data": {
      "text/html": [
       "<div>\n",
       "<style scoped>\n",
       "    .dataframe tbody tr th:only-of-type {\n",
       "        vertical-align: middle;\n",
       "    }\n",
       "\n",
       "    .dataframe tbody tr th {\n",
       "        vertical-align: top;\n",
       "    }\n",
       "\n",
       "    .dataframe thead th {\n",
       "        text-align: right;\n",
       "    }\n",
       "</style>\n",
       "<table border=\"1\" class=\"dataframe\">\n",
       "  <thead>\n",
       "    <tr style=\"text-align: right;\">\n",
       "      <th></th>\n",
       "      <th>Price</th>\n",
       "      <th>Reviews</th>\n",
       "      <th>Rating</th>\n",
       "      <th>Brand</th>\n",
       "      <th>Operating System</th>\n",
       "      <th>CPU manufacturer</th>\n",
       "      <th>Screen size</th>\n",
       "      <th>Computer memory size</th>\n",
       "      <th>Processor count</th>\n",
       "      <th>Graphics Chipset Brand</th>\n",
       "      <th>CPU model</th>\n",
       "      <th>Hard disk size</th>\n",
       "    </tr>\n",
       "  </thead>\n",
       "  <tbody>\n",
       "    <tr>\n",
       "      <th>59</th>\n",
       "      <td>1555.00</td>\n",
       "      <td>817</td>\n",
       "      <td>4.7</td>\n",
       "      <td>Apple</td>\n",
       "      <td>NaN</td>\n",
       "      <td>Intel</td>\n",
       "      <td>13</td>\n",
       "      <td>512 GB</td>\n",
       "      <td>4.0</td>\n",
       "      <td>NaN</td>\n",
       "      <td>Core i5</td>\n",
       "      <td>NaN</td>\n",
       "    </tr>\n",
       "    <tr>\n",
       "      <th>146</th>\n",
       "      <td>2099.00</td>\n",
       "      <td>102</td>\n",
       "      <td>4.7</td>\n",
       "      <td>Apple</td>\n",
       "      <td>NaN</td>\n",
       "      <td>Intel</td>\n",
       "      <td>27</td>\n",
       "      <td>512 GB</td>\n",
       "      <td>8.0</td>\n",
       "      <td>NaN</td>\n",
       "      <td>Intel Core i7</td>\n",
       "      <td>NaN</td>\n",
       "    </tr>\n",
       "    <tr>\n",
       "      <th>220</th>\n",
       "      <td>2399.00</td>\n",
       "      <td>0</td>\n",
       "      <td>NaN</td>\n",
       "      <td>MSI</td>\n",
       "      <td>Windows 10 Pro</td>\n",
       "      <td>Intel</td>\n",
       "      <td>17.3</td>\n",
       "      <td>512 GB</td>\n",
       "      <td>8.0</td>\n",
       "      <td>NVIDIA</td>\n",
       "      <td>Core i7</td>\n",
       "      <td>512 GB</td>\n",
       "    </tr>\n",
       "    <tr>\n",
       "      <th>277</th>\n",
       "      <td>899.99</td>\n",
       "      <td>1</td>\n",
       "      <td>5.0</td>\n",
       "      <td>Lenovo</td>\n",
       "      <td>Windows 10 Pro</td>\n",
       "      <td>NaN</td>\n",
       "      <td>14</td>\n",
       "      <td>512 GB</td>\n",
       "      <td>1.0</td>\n",
       "      <td>NaN</td>\n",
       "      <td>Core i7</td>\n",
       "      <td>512 GB</td>\n",
       "    </tr>\n",
       "  </tbody>\n",
       "</table>\n",
       "</div>"
      ],
      "text/plain": [
       "       Price Reviews Rating   Brand Operating System CPU manufacturer  \\\n",
       "59   1555.00    817    4.7    Apple              NaN            Intel   \n",
       "146  2099.00    102    4.7    Apple              NaN            Intel   \n",
       "220  2399.00       0    NaN     MSI   Windows 10 Pro            Intel   \n",
       "277   899.99      1    5.0   Lenovo   Windows 10 Pro              NaN   \n",
       "\n",
       "    Screen size Computer memory size  Processor count Graphics Chipset Brand  \\\n",
       "59          13                512 GB              4.0                    NaN   \n",
       "146         27                512 GB              8.0                    NaN   \n",
       "220       17.3                512 GB              8.0                 NVIDIA   \n",
       "277         14                512 GB              1.0                    NaN   \n",
       "\n",
       "         CPU model Hard disk size  \n",
       "59         Core i5            NaN  \n",
       "146  Intel Core i7            NaN  \n",
       "220        Core i7         512 GB  \n",
       "277        Core i7         512 GB  "
      ]
     },
     "execution_count": 16,
     "metadata": {},
     "output_type": "execute_result"
    }
   ],
   "source": [
    "df[df['Computer memory size'] == '512 GB']\n"
   ]
  },
  {
   "cell_type": "code",
   "execution_count": 17,
   "metadata": {},
   "outputs": [],
   "source": [
    "df.at[59,'Computer memory size'] = '16'\n",
    "df.at[146,'Computer memory size'] = '8'\n",
    "\n",
    "df.at[59,'Hard disk size'] = '512 GB'\n",
    "df.at[146,'Hard disk size'] = '512 GB '\n",
    "\n",
    "df.at[220,'Computer memory size'] = '16'\n",
    "df.at[277,'Computer memory size'] = '8'"
   ]
  },
  {
   "cell_type": "code",
   "execution_count": 18,
   "metadata": {},
   "outputs": [
    {
     "data": {
      "text/html": [
       "<div>\n",
       "<style scoped>\n",
       "    .dataframe tbody tr th:only-of-type {\n",
       "        vertical-align: middle;\n",
       "    }\n",
       "\n",
       "    .dataframe tbody tr th {\n",
       "        vertical-align: top;\n",
       "    }\n",
       "\n",
       "    .dataframe thead th {\n",
       "        text-align: right;\n",
       "    }\n",
       "</style>\n",
       "<table border=\"1\" class=\"dataframe\">\n",
       "  <thead>\n",
       "    <tr style=\"text-align: right;\">\n",
       "      <th></th>\n",
       "      <th>Price</th>\n",
       "      <th>Reviews</th>\n",
       "      <th>Rating</th>\n",
       "      <th>Brand</th>\n",
       "      <th>Operating System</th>\n",
       "      <th>CPU manufacturer</th>\n",
       "      <th>Screen size</th>\n",
       "      <th>Computer memory size</th>\n",
       "      <th>Processor count</th>\n",
       "      <th>Graphics Chipset Brand</th>\n",
       "      <th>CPU model</th>\n",
       "      <th>Hard disk size</th>\n",
       "    </tr>\n",
       "  </thead>\n",
       "  <tbody>\n",
       "    <tr>\n",
       "      <th>74</th>\n",
       "      <td>1099.97</td>\n",
       "      <td>5</td>\n",
       "      <td>4.5</td>\n",
       "      <td>MSI</td>\n",
       "      <td>Windows</td>\n",
       "      <td>Intel</td>\n",
       "      <td>15.6</td>\n",
       "      <td>1 TB</td>\n",
       "      <td>6.0</td>\n",
       "      <td>NVIDIA</td>\n",
       "      <td>Core i7</td>\n",
       "      <td>1 TB</td>\n",
       "    </tr>\n",
       "    <tr>\n",
       "      <th>106</th>\n",
       "      <td>1099.97</td>\n",
       "      <td>5</td>\n",
       "      <td>4.5</td>\n",
       "      <td>MSI</td>\n",
       "      <td>Windows</td>\n",
       "      <td>Intel</td>\n",
       "      <td>15.6</td>\n",
       "      <td>1 TB</td>\n",
       "      <td>6.0</td>\n",
       "      <td>NVIDIA</td>\n",
       "      <td>Core i7</td>\n",
       "      <td>1 TB</td>\n",
       "    </tr>\n",
       "    <tr>\n",
       "      <th>198</th>\n",
       "      <td>1898.99</td>\n",
       "      <td>0</td>\n",
       "      <td>NaN</td>\n",
       "      <td>MSI</td>\n",
       "      <td>Windows</td>\n",
       "      <td>Intel</td>\n",
       "      <td>15.6</td>\n",
       "      <td>1 TB</td>\n",
       "      <td>8.0</td>\n",
       "      <td>NVIDIA</td>\n",
       "      <td>Core i7</td>\n",
       "      <td>1 TB</td>\n",
       "    </tr>\n",
       "  </tbody>\n",
       "</table>\n",
       "</div>"
      ],
      "text/plain": [
       "       Price Reviews Rating Brand Operating System CPU manufacturer  \\\n",
       "74   1099.97      5    4.5    MSI          Windows            Intel   \n",
       "106  1099.97      5    4.5    MSI          Windows            Intel   \n",
       "198  1898.99       0    NaN   MSI          Windows            Intel   \n",
       "\n",
       "    Screen size Computer memory size  Processor count Graphics Chipset Brand  \\\n",
       "74        15.6                  1 TB              6.0                 NVIDIA   \n",
       "106       15.6                  1 TB              6.0                 NVIDIA   \n",
       "198       15.6                  1 TB              8.0                 NVIDIA   \n",
       "\n",
       "    CPU model Hard disk size  \n",
       "74    Core i7           1 TB  \n",
       "106   Core i7           1 TB  \n",
       "198   Core i7           1 TB  "
      ]
     },
     "execution_count": 18,
     "metadata": {},
     "output_type": "execute_result"
    }
   ],
   "source": [
    "df[df['Computer memory size'] == '1 TB']"
   ]
  },
  {
   "cell_type": "code",
   "execution_count": 19,
   "metadata": {},
   "outputs": [],
   "source": [
    "df.at[74,'Computer memory size'] = '16'\n",
    "df.at[106,'Computer memory size'] = '16'\n",
    "df.at[198,'Computer memory size'] = '16'\n",
    "df['Computer memory size'] = df['Computer memory size'].str.replace('GB','').astype(np.float).astype(\"Int32\")"
   ]
  },
  {
   "cell_type": "code",
   "execution_count": 20,
   "metadata": {},
   "outputs": [
    {
     "data": {
      "text/plain": [
       "array([ 8.,  4.,  2.,  1., nan,  6.,  3.,  7.])"
      ]
     },
     "execution_count": 20,
     "metadata": {},
     "output_type": "execute_result"
    }
   ],
   "source": [
    "df['Processor count'].unique()"
   ]
  },
  {
   "cell_type": "code",
   "execution_count": 21,
   "metadata": {},
   "outputs": [],
   "source": [
    "df['Graphics Chipset Brand'].unique()\n",
    "df['Graphics Chipset Brand'] = df['Graphics Chipset Brand'].str.replace('NVIDIA','Nvidia')"
   ]
  },
  {
   "cell_type": "code",
   "execution_count": 22,
   "metadata": {},
   "outputs": [
    {
     "data": {
      "text/plain": [
       "0      Core i5-10210U\n",
       "1           Celeron N\n",
       "2             Celeron\n",
       "3       Ryzen 5 3500U\n",
       "4       Celeron N3350\n",
       "            ...      \n",
       "339     Ryzen 7 4700U\n",
       "340     Celeron N3350\n",
       "341     Celeron N3350\n",
       "342         Celeron N\n",
       "343           Celeron\n",
       "Name: CPU model, Length: 344, dtype: object"
      ]
     },
     "execution_count": 22,
     "metadata": {},
     "output_type": "execute_result"
    }
   ],
   "source": [
    "df['CPU model']"
   ]
  },
  {
   "cell_type": "code",
   "execution_count": 23,
   "metadata": {},
   "outputs": [
    {
     "data": {
      "text/plain": [
       "Celeron                           70\n",
       "Celeron N                         50\n",
       "Core i5                           38\n",
       "Core i7                           30\n",
       "Core i5-10210U                    23\n",
       "Celeron N3350                     13\n",
       "Pentium                            6\n",
       "Core i5 Family                     6\n",
       "Intel Core i5                      6\n",
       "None                               6\n",
       "Celeron J3455                      6\n",
       "Celeron N3450                      5\n",
       "Atom Z8350                         4\n",
       "Core i5 6200U                      4\n",
       "Celeron G1610T                     4\n",
       "Core i3-1005G1                     3\n",
       "Ryzen 3 3250U                      3\n",
       "Celeron 2955U                      3\n",
       "5X86                               3\n",
       "Core i5 3340M                      3\n",
       "Core_m                             2\n",
       "AMD A4                             2\n",
       "Celeron N4020                      2\n",
       "A33 ARM Cortexâ¢ A7 Quad Core     2\n",
       "A-Series                           2\n",
       "Ryzen 5 3500U                      2\n",
       "AMD Ryzen 7                        2\n",
       "Core i7-10510U                     1\n",
       "Core i7 Family                     1\n",
       "Core i3 Family                     1\n",
       "Core i5 8250U                      1\n",
       "Ryzen 7 4800H                      1\n",
       "Core i5 7200U                      1\n",
       "AMD A6                             1\n",
       "Core m3-8100Y                      1\n",
       "Core i5-1035G4                     1\n",
       "Celeron N2840                      1\n",
       "R Series                           1\n",
       "Core i5 5300U                      1\n",
       "Core i3                            1\n",
       "Core i7 6600U                      1\n",
       "AMD FX                             1\n",
       "Core i5-1035G1                     1\n",
       "Celeron 3855U                      1\n",
       "Core M Family                      1\n",
       "Pentium Gold G5400                 1\n",
       "Ryzen 9                            1\n",
       "Ryzen 7 4700U                      1\n",
       "Intel Core i7                      1\n",
       "Unknown                            1\n",
       "Celeron 3865U                      1\n",
       "Ryzen 5 4600U                      1\n",
       "ARM710                             1\n",
       "Ryzen 7                            1\n",
       "Athlon Silver 3050U                1\n",
       "Core i7 4770                       1\n",
       "Core i5 4300U                      1\n",
       "Name: CPU model, dtype: int64"
      ]
     },
     "execution_count": 23,
     "metadata": {},
     "output_type": "execute_result"
    }
   ],
   "source": [
    "df['CPU model'].value_counts()"
   ]
  },
  {
   "cell_type": "code",
   "execution_count": 24,
   "metadata": {},
   "outputs": [],
   "source": [
    "df['CPU model'] = df['CPU model'].str.replace(r'(^.*Core i3.*$)', 'Core i3')\n",
    "df['CPU model'] = df['CPU model'].str.replace(r'(^.*Core i5.*$)', 'Core i5')\n",
    "df['CPU model'] = df['CPU model'].str.replace(r'(^.*Core i7.*$)', 'Core i7')\n",
    "df['CPU model'] = df['CPU model'].str.replace(r'(^.*Ryzen.*$)', 'Ryzen')\n",
    "df['CPU model'] = df['CPU model'].str.replace(r'(^.*Pentium.*$)', 'Pentium')\n",
    "df['CPU model'] = df['CPU model'].str.replace(r'(^.*AMD.*$)', 'Ryzen')"
   ]
  },
  {
   "cell_type": "code",
   "execution_count": 25,
   "metadata": {},
   "outputs": [],
   "source": [
    "counts = df['CPU model'].value_counts() \n",
    "idx = counts[counts.lt(5)].index\n",
    "df.loc[df['CPU model'].isin(idx), 'CPU model'] = 'Other'"
   ]
  },
  {
   "cell_type": "code",
   "execution_count": 26,
   "metadata": {},
   "outputs": [],
   "source": [
    "df['CPU model'] = df['CPU model'].str.replace('None','Other')"
   ]
  },
  {
   "cell_type": "code",
   "execution_count": null,
   "metadata": {},
   "outputs": [],
   "source": []
  },
  {
   "cell_type": "code",
   "execution_count": 27,
   "metadata": {},
   "outputs": [],
   "source": [
    "df['Hard disk size'] = df['Hard disk size'].str.replace('1 TB', '1000')\n",
    "df['Hard disk size'] = df['Hard disk size'].str.replace('GB','').astype(np.float).astype(\"Int32\")\n",
    "df['Reviews'] = df['Reviews'].astype(np.float).astype(\"Int32\")\n",
    "df['Screen size'] = df['Screen size'].astype(np.float)\n",
    "df['Price'] = df['Price'].astype(np.float)\n",
    "df['Rating'] = df['Rating'].astype(np.float)"
   ]
  },
  {
   "cell_type": "code",
   "execution_count": 28,
   "metadata": {},
   "outputs": [
    {
     "data": {
      "text/plain": [
       "Price                     float64\n",
       "Reviews                     Int32\n",
       "Rating                    float64\n",
       "Brand                      object\n",
       "Operating System           object\n",
       "CPU manufacturer           object\n",
       "Screen size               float64\n",
       "Computer memory size        Int32\n",
       "Processor count           float64\n",
       "Graphics Chipset Brand     object\n",
       "CPU model                  object\n",
       "Hard disk size              Int32\n",
       "dtype: object"
      ]
     },
     "execution_count": 28,
     "metadata": {},
     "output_type": "execute_result"
    }
   ],
   "source": [
    "df.dtypes"
   ]
  },
  {
   "cell_type": "code",
   "execution_count": 29,
   "metadata": {},
   "outputs": [
    {
     "name": "stdout",
     "output_type": "stream",
     "text": [
      "Price\n",
      "Reviews\n",
      "Rating\n",
      "Screen size\n",
      "Computer memory size\n",
      "Processor count\n",
      "Hard disk size\n"
     ]
    }
   ],
   "source": [
    "for col in df.columns:\n",
    "    if(is_numeric_dtype(df[col])):\n",
    "        print(col)\n",
    "        avg  = int(df[col].mean())\n",
    "        df[col].fillna(avg,inplace=True)\n",
    "        \n",
    "    if(is_string_dtype(df[col])):\n",
    "        df[col].fillna('Unknown ',inplace = True)"
   ]
  },
  {
   "cell_type": "code",
   "execution_count": 30,
   "metadata": {},
   "outputs": [
    {
     "data": {
      "text/plain": [
       "<matplotlib.axes._subplots.AxesSubplot at 0x2a4c59e3940>"
      ]
     },
     "execution_count": 30,
     "metadata": {},
     "output_type": "execute_result"
    },
    {
     "data": {
      "image/png": "[encoded data removed]",
      "text/plain": [
       "<Figure size 432x288 with 1 Axes>"
      ]
     },
     "metadata": {
      "needs_background": "light"
     },
     "output_type": "display_data"
    }
   ],
   "source": [
    "df['CPU manufacturer'].value_counts().plot(kind='bar')"
   ]
  },
  {
   "cell_type": "markdown",
   "metadata": {},
   "source": [
    "Intel really dominates the market"
   ]
  },
  {
   "cell_type": "code",
   "execution_count": 31,
   "metadata": {},
   "outputs": [
    {
     "data": {
      "text/plain": [
       "<matplotlib.axes._subplots.AxesSubplot at 0x2a4c6260d30>"
      ]
     },
     "execution_count": 31,
     "metadata": {},
     "output_type": "execute_result"
    },
    {
     "data": {
      "image/png": "[encoded data removed]",
      "text/plain": [
       "<Figure size 432x288 with 1 Axes>"
      ]
     },
     "metadata": {
      "needs_background": "light"
     },
     "output_type": "display_data"
    }
   ],
   "source": [
    "df['Operating System'].value_counts().plot(kind='bar')"
   ]
  },
  {
   "cell_type": "code",
   "execution_count": 32,
   "metadata": {},
   "outputs": [
    {
     "data": {
      "text/plain": [
       "<matplotlib.axes._subplots.AxesSubplot at 0x2a4c62ec490>"
      ]
     },
     "execution_count": 32,
     "metadata": {},
     "output_type": "execute_result"
    },
    {
     "data": {
      "image/png": "[encoded data removed]",
      "text/plain": [
       "<Figure size 432x288 with 1 Axes>"
      ]
     },
     "metadata": {
      "needs_background": "light"
     },
     "output_type": "display_data"
    }
   ],
   "source": [
    "df['Brand'].value_counts().plot(kind='bar')"
   ]
  },
  {
   "cell_type": "markdown",
   "metadata": {},
   "source": [
    "More variety by brand"
   ]
  },
  {
   "cell_type": "markdown",
   "metadata": {},
   "source": [
    "## Analysis"
   ]
  },
  {
   "cell_type": "code",
   "execution_count": 33,
   "metadata": {},
   "outputs": [],
   "source": [
    "df = pd.get_dummies(df)"
   ]
  },
  {
   "cell_type": "code",
   "execution_count": 34,
   "metadata": {},
   "outputs": [],
   "source": [
    "X = df.drop('Price',axis = 1)\n",
    "y = df['Price']"
   ]
  },
  {
   "cell_type": "code",
   "execution_count": 35,
   "metadata": {},
   "outputs": [],
   "source": [
    "gsc = GridSearchCV(\n",
    "        estimator=RandomForestRegressor(),\n",
    "        param_grid={\n",
    "            'max_depth': range(3,7),\n",
    "            'n_estimators': (10, 50, 100, 1000),\n",
    "        },\n",
    "        cv=5, scoring='neg_mean_squared_error', verbose=0,n_jobs=-1)"
   ]
  },
  {
   "cell_type": "code",
   "execution_count": 36,
   "metadata": {},
   "outputs": [],
   "source": [
    "grid_models = gsc.fit(X, y)\n",
    "best_params = grid_models.best_params_"
   ]
  },
  {
   "cell_type": "code",
   "execution_count": 37,
   "metadata": {},
   "outputs": [],
   "source": [
    "forest = RandomForestRegressor(max_depth=best_params[\"max_depth\"],\n",
    "                      n_estimators=best_params[\"n_estimators\"],\n",
    "                      random_state=1, \n",
    "                      verbose=False)"
   ]
  },
  {
   "cell_type": "code",
   "execution_count": 38,
   "metadata": {},
   "outputs": [
    {
     "data": {
      "text/plain": [
       "array([ -64.18351732,  -91.7876381 ,  -83.64802502,  -64.72479026,\n",
       "       -129.39052997, -137.51479618, -127.9545474 , -114.33438623,\n",
       "        -74.61459229, -188.82409718])"
      ]
     },
     "execution_count": 38,
     "metadata": {},
     "output_type": "execute_result"
    }
   ],
   "source": [
    "cross_val_score(forest, X, y, cv=10, scoring='neg_mean_absolute_error')\n"
   ]
  }
 ],
 "metadata": {
  "kernelspec": {
   "display_name": "Python 3",
   "language": "python",
   "name": "python3"
  },
  "language_info": {
   "codemirror_mode": {
    "name": "ipython",
    "version": 3
   },
   "file_extension": ".py",
   "mimetype": "text/x-python",
   "name": "python",
   "nbconvert_exporter": "python",
   "pygments_lexer": "ipython3",
   "version": "3.8.3"
  }
 },
 "nbformat": 4,
 "nbformat_minor": 4
}
